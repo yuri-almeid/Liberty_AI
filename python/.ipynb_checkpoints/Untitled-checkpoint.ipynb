{
 "cells": [
  {
   "cell_type": "code",
   "execution_count": 1,
   "metadata": {},
   "outputs": [
    {
     "name": "stdout",
     "output_type": "stream",
     "text": [
      "ticks update: {\"echo_req\":{\"amount\":5,\"basis\":\"payout\",\"contract_type\":\"DIGITODD\",\"currency\":\"USD\",\"duration\":1,\"duration_unit\":\"t\",\"product_type\":\"basic\",\"proposal\":1,\"symbol\":\"R_50\"},\"msg_type\":\"proposal\",\"proposal\":{\"ask_price\":2.55,\"date_start\":1596401705,\"display_value\":\"2.55\",\"id\":\"77de2368-df3b-cff8-0db5-580f740d28f9\",\"longcode\":\"Win payout if the last digit of Volatility 50 Index is odd after 1 ticks.\",\"payout\":5,\"spot\":302.2014,\"spot_time\":1596401704}}\n"
     ]
    }
   ],
   "source": [
    "import websocket\n",
    "import json\n",
    "\n",
    "\n",
    "'''proposal: 1,\n",
    "\t\t\tamount: 5,\n",
    "\t\t\tbasis: \"payout\",\n",
    "\t\t\tcontract_type: \"DIGITODD\",\n",
    "\t\t\tcurrency: \"USD\",\n",
    "\t\t\tduration: 1,\n",
    "\t\t\tduration_unit: \"t\",\n",
    "\t\t\tsymbol: \"R_50\"\n",
    "            '''\n",
    "\n",
    "\n",
    "def on_open(ws):\n",
    "    json_data = json.dumps({'proposal': 1,\n",
    "                            'amount': 5,\n",
    "                            'basis': \"payout\",\n",
    "                            'contract_type': \"DIGITODD\",\n",
    "                            'currency': \"USD\",\n",
    "                            'duration': 1,\n",
    "                            'duration_unit': \"t\",\n",
    "                            'symbol': \"R_50\"})\n",
    "    ws.send(json_data)\n",
    "\n",
    "def on_message(ws, message):\n",
    "    print('ticks update: %s' % message)\n",
    "\n",
    "if __name__ == \"__main__\":\n",
    "    apiUrl = \"wss://ws.binaryws.com/websockets/v3?app_id=22566\"\n",
    "    ws = websocket.WebSocketApp(apiUrl, on_message = on_message, on_open = on_open)\n",
    "    ws.run_forever()"
   ]
  },
  {
   "cell_type": "code",
   "execution_count": null,
   "metadata": {},
   "outputs": [],
   "source": [
    "ws"
   ]
  }
 ],
 "metadata": {
  "kernelspec": {
   "display_name": "Python 3",
   "language": "python",
   "name": "python3"
  },
  "language_info": {
   "codemirror_mode": {
    "name": "ipython",
    "version": 3
   },
   "file_extension": ".py",
   "mimetype": "text/x-python",
   "name": "python",
   "nbconvert_exporter": "python",
   "pygments_lexer": "ipython3",
   "version": "3.7.6"
  }
 },
 "nbformat": 4,
 "nbformat_minor": 2
}
